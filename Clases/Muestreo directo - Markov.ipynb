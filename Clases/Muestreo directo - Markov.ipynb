{
 "cells": [
  {
   "cell_type": "markdown",
   "id": "16ce7b0b",
   "metadata": {},
   "source": [
    "## Muestreo directo"
   ]
  },
  {
   "cell_type": "markdown",
   "id": "548bb56c",
   "metadata": {},
   "source": [
    "#### Determinación de $\\pi$ por muestreo directo"
   ]
  },
  {
   "cell_type": "code",
   "execution_count": 57,
   "id": "74eb1c8c",
   "metadata": {},
   "outputs": [],
   "source": [
    "import numpy as np\n",
    "import random\n",
    "\n",
    "def pi_random(N):\n",
    "    \n",
    "    # x = random.uniform(-1.0, 1.0)\n",
    "    x = np.random.rand(N)*2 - 1\n",
    "    y = np.random.rand(N)*2 - 1\n",
    "    \n",
    "    aciertos = 0\n",
    "    \n",
    "    for i in range(len(x)):\n",
    "        if x[i]**2 + y[i]**2 <= 1:\n",
    "            aciertos +=1\n",
    "    \n",
    "    return aciertos/N*4"
   ]
  },
  {
   "cell_type": "code",
   "execution_count": 42,
   "id": "f1ecee4c",
   "metadata": {},
   "outputs": [
    {
     "data": {
      "text/plain": [
       "3.1396"
      ]
     },
     "execution_count": 42,
     "metadata": {},
     "output_type": "execute_result"
    }
   ],
   "source": [
    "pi_random(30000)"
   ]
  },
  {
   "cell_type": "code",
   "execution_count": 43,
   "id": "bcaa7360",
   "metadata": {},
   "outputs": [
    {
     "name": "stdout",
     "output_type": "stream",
     "text": [
      "3.145416000000001\n"
     ]
    }
   ],
   "source": [
    "X = 0\n",
    "for i in range(100):\n",
    "    X += pi_random(10000)\n",
    "print(X/100)"
   ]
  },
  {
   "cell_type": "code",
   "execution_count": 61,
   "id": "b28afc06",
   "metadata": {},
   "outputs": [],
   "source": [
    "def pi_markov(N):\n",
    "    \n",
    "    x = 0\n",
    "    y = 0\n",
    "    aciertos = 0\n",
    "    i = 0\n",
    "    while i<N:\n",
    "        dx = random.uniform(-1, 1)\n",
    "        dy = random.uniform(-1, 1)\n",
    "        \n",
    "        x += dx\n",
    "        y += dy\n",
    "        \n",
    "        if x>=-1 and x<=1 and y>=-1 and y<=1:\n",
    "            i += 1\n",
    "            if x**2 + y**2 <= 1:\n",
    "                aciertos += 1\n",
    "        else:\n",
    "            x-=dx\n",
    "            y-=dy\n",
    "    return aciertos/N*4"
   ]
  },
  {
   "cell_type": "code",
   "execution_count": 71,
   "id": "a201b9c9",
   "metadata": {},
   "outputs": [
    {
     "data": {
      "text/plain": [
       "3.44552"
      ]
     },
     "execution_count": 71,
     "metadata": {},
     "output_type": "execute_result"
    }
   ],
   "source": [
    "pi_markov(100000)"
   ]
  },
  {
   "cell_type": "code",
   "execution_count": null,
   "id": "1f641db5",
   "metadata": {},
   "outputs": [],
   "source": []
  }
 ],
 "metadata": {
  "kernelspec": {
   "display_name": "Python 3",
   "language": "python",
   "name": "python3"
  },
  "language_info": {
   "codemirror_mode": {
    "name": "ipython",
    "version": 3
   },
   "file_extension": ".py",
   "mimetype": "text/x-python",
   "name": "python",
   "nbconvert_exporter": "python",
   "pygments_lexer": "ipython3",
   "version": "3.8.8"
  }
 },
 "nbformat": 4,
 "nbformat_minor": 5
}
