{
 "cells": [
  {
   "cell_type": "code",
   "execution_count": 1,
   "id": "f7451839",
   "metadata": {},
   "outputs": [],
   "source": [
    "import numpy as np\n",
    "import matplotlib.pyplot as plt\n",
    "import seaborn as sns\n",
    "import pandas as pd"
   ]
  },
  {
   "cell_type": "code",
   "execution_count": 46,
   "id": "dbd4cd97",
   "metadata": {},
   "outputs": [
    {
     "data": {
      "text/plain": [
       "a    4\n",
       "b    3\n",
       "c    3\n",
       "d    5\n",
       "e    0\n",
       "Name: Cohorte 1, dtype: int64"
      ]
     },
     "execution_count": 46,
     "metadata": {},
     "output_type": "execute_result"
    }
   ],
   "source": [
    "# Los dataframes están formados por Series, el objeto fundamental de pandas\n",
    "notas1 = pd.Series(np.random.randint(0,6, size = 5), index = list('abcde'), name = 'Cohorte 1')\n",
    "notas1"
   ]
  },
  {
   "cell_type": "markdown",
   "id": "093a9891",
   "metadata": {},
   "source": [
    "Las series también se pueden generar a partir de diccionarios como los DataFrames:"
   ]
  },
  {
   "cell_type": "code",
   "execution_count": 9,
   "id": "cd75b10b",
   "metadata": {},
   "outputs": [
    {
     "data": {
      "text/plain": [
       "t    3\n",
       "r    2\n",
       "Name: valores, dtype: int64"
      ]
     },
     "execution_count": 9,
     "metadata": {},
     "output_type": "execute_result"
    }
   ],
   "source": [
    "a = pd.Series({'t' : 3, 'r' : 2}, name = 'valores')\n",
    "a"
   ]
  },
  {
   "cell_type": "code",
   "execution_count": 11,
   "id": "bf1ea861",
   "metadata": {},
   "outputs": [
    {
     "data": {
      "text/plain": [
       "<PandasArray>\n",
       "[4, 4, 1, 0, 0]\n",
       "Length: 5, dtype: int64"
      ]
     },
     "execution_count": 11,
     "metadata": {},
     "output_type": "execute_result"
    }
   ],
   "source": [
    "# Devuelve un array de Pandas con los elementos de la serie (pierde la asociación a índice\n",
    "notas1.array"
   ]
  },
  {
   "cell_type": "code",
   "execution_count": 13,
   "id": "d0253b6b",
   "metadata": {},
   "outputs": [
    {
     "data": {
      "text/plain": [
       "dtype('int64')"
      ]
     },
     "execution_count": 13,
     "metadata": {},
     "output_type": "execute_result"
    }
   ],
   "source": [
    "# Devuelve el tipo de los datos de la Serie\n",
    "notas1.dtype"
   ]
  },
  {
   "cell_type": "code",
   "execution_count": 15,
   "id": "a08f56ce",
   "metadata": {},
   "outputs": [
    {
     "data": {
      "text/plain": [
       "Index(['a', 'b', 'c', 'd', 'e'], dtype='object')"
      ]
     },
     "execution_count": 15,
     "metadata": {},
     "output_type": "execute_result"
    }
   ],
   "source": [
    "# Devuelve la lista de índices de la Serie\n",
    "notas1.index"
   ]
  },
  {
   "cell_type": "code",
   "execution_count": 17,
   "id": "71b66166",
   "metadata": {},
   "outputs": [
    {
     "data": {
      "text/plain": [
       "'Cohorte 1'"
      ]
     },
     "execution_count": 17,
     "metadata": {},
     "output_type": "execute_result"
    }
   ],
   "source": [
    "# Devuelve el nombre de la columna (Serie)\n",
    "notas1.name"
   ]
  },
  {
   "cell_type": "code",
   "execution_count": 19,
   "id": "a9fafc65",
   "metadata": {},
   "outputs": [
    {
     "data": {
      "text/plain": [
       "array([4, 4, 1, 0, 0])"
      ]
     },
     "execution_count": 19,
     "metadata": {},
     "output_type": "execute_result"
    }
   ],
   "source": [
    "# Devuelve un array de numpy con los elementos de la serie\n",
    "notas1.values"
   ]
  },
  {
   "cell_type": "code",
   "execution_count": 23,
   "id": "d829e2ba",
   "metadata": {},
   "outputs": [
    {
     "data": {
      "text/plain": [
       "(5,)"
      ]
     },
     "execution_count": 23,
     "metadata": {},
     "output_type": "execute_result"
    }
   ],
   "source": [
    "# Da la forma de la serie\n",
    "notas1.shape"
   ]
  },
  {
   "cell_type": "code",
   "execution_count": 26,
   "id": "2c24ce09",
   "metadata": {},
   "outputs": [
    {
     "data": {
      "text/plain": [
       "5"
      ]
     },
     "execution_count": 26,
     "metadata": {},
     "output_type": "execute_result"
    }
   ],
   "source": [
    "# Devuelve el tamaño total\n",
    "notas1.size"
   ]
  },
  {
   "cell_type": "code",
   "execution_count": 35,
   "id": "7dc58317",
   "metadata": {},
   "outputs": [
    {
     "data": {
      "text/plain": [
       "4"
      ]
     },
     "execution_count": 35,
     "metadata": {},
     "output_type": "execute_result"
    }
   ],
   "source": [
    "# Permite localizar por índice\n",
    "notas1.loc['a']"
   ]
  },
  {
   "cell_type": "code",
   "execution_count": 38,
   "id": "0a3b8caf",
   "metadata": {},
   "outputs": [
    {
     "data": {
      "text/plain": [
       "4"
      ]
     },
     "execution_count": 38,
     "metadata": {},
     "output_type": "execute_result"
    }
   ],
   "source": [
    "# Permite localizar por posición\n",
    "notas1.iloc[1]"
   ]
  },
  {
   "cell_type": "code",
   "execution_count": 47,
   "id": "68521b96",
   "metadata": {},
   "outputs": [
    {
     "data": {
      "text/plain": [
       "a    0.8\n",
       "b    0.6\n",
       "c    0.6\n",
       "d    1.0\n",
       "e    0.0\n",
       "Name: Cohorte 1, dtype: float64"
      ]
     },
     "execution_count": 47,
     "metadata": {},
     "output_type": "execute_result"
    }
   ],
   "source": [
    "# Operan igual que los arrays\n",
    "notas1 = notas1/notas1.max()\n",
    "notas1"
   ]
  },
  {
   "cell_type": "code",
   "execution_count": 56,
   "id": "717f64e2",
   "metadata": {},
   "outputs": [],
   "source": [
    "notas = notas1.copy()"
   ]
  },
  {
   "cell_type": "code",
   "execution_count": 57,
   "id": "3233cdf9",
   "metadata": {},
   "outputs": [
    {
     "data": {
      "text/plain": [
       "a    0.8\n",
       "b    0.6\n",
       "c    0.6\n",
       "d    1.0\n",
       "e    0.0\n",
       "Name: Copia de Cohorte 1, dtype: float64"
      ]
     },
     "execution_count": 57,
     "metadata": {},
     "output_type": "execute_result"
    }
   ],
   "source": [
    "notas = notas.rename('Copia de Cohorte 1')\n",
    "notas"
   ]
  },
  {
   "cell_type": "code",
   "execution_count": 58,
   "id": "1580bc0a",
   "metadata": {},
   "outputs": [],
   "source": [
    "# reindex sirve para cambiar el orden de índices, no para crear unas nuevas etiquetas\n",
    "#new_index = list('mnopq')\n",
    "#notas = notas.reindex(new_index)\n",
    "#notas"
   ]
  },
  {
   "cell_type": "code",
   "execution_count": 60,
   "id": "f4bb6247",
   "metadata": {},
   "outputs": [
    {
     "data": {
      "text/plain": [
       "a    0.8\n",
       "b    0.6\n",
       "c    0.6\n",
       "d    1.0\n",
       "e    3.0\n",
       "Name: Copia de Cohorte 1, dtype: float64"
      ]
     },
     "execution_count": 60,
     "metadata": {},
     "output_type": "execute_result"
    }
   ],
   "source": [
    "notas = notas.replace(to_replace = 0, value = 3)\n",
    "notas"
   ]
  },
  {
   "cell_type": "code",
   "execution_count": 62,
   "id": "b47f3113",
   "metadata": {},
   "outputs": [
    {
     "data": {
      "text/plain": [
       "a    NaN\n",
       "b    NaN\n",
       "c    NaN\n",
       "d    NaN\n",
       "e    3.0\n",
       "Name: Copia de Cohorte 1, dtype: float64"
      ]
     },
     "execution_count": 62,
     "metadata": {},
     "output_type": "execute_result"
    }
   ],
   "source": [
    "# Deja los valores donde se cumple la condición\n",
    "notas.where(notas>2)"
   ]
  },
  {
   "cell_type": "code",
   "execution_count": 64,
   "id": "97cffeda",
   "metadata": {},
   "outputs": [
    {
     "data": {
      "text/plain": [
       "a    0.8\n",
       "b    0.6\n",
       "c    0.6\n",
       "d    1.0\n",
       "e    NaN\n",
       "Name: Copia de Cohorte 1, dtype: float64"
      ]
     },
     "execution_count": 64,
     "metadata": {},
     "output_type": "execute_result"
    }
   ],
   "source": [
    "# Deja los valores donde no se cumple la condición\n",
    "notas.mask(notas>2)"
   ]
  },
  {
   "cell_type": "code",
   "execution_count": 66,
   "id": "2bdab804",
   "metadata": {},
   "outputs": [
    {
     "data": {
      "text/plain": [
       "a    False\n",
       "b    False\n",
       "c    False\n",
       "d    False\n",
       "e     True\n",
       "Name: Copia de Cohorte 1, dtype: bool"
      ]
     },
     "execution_count": 66,
     "metadata": {},
     "output_type": "execute_result"
    }
   ],
   "source": [
    "notas.mask(notas>2).isna()"
   ]
  },
  {
   "cell_type": "code",
   "execution_count": 69,
   "id": "dcfeb9a9",
   "metadata": {},
   "outputs": [
    {
     "data": {
      "text/plain": [
       "a    0.8\n",
       "b    0.6\n",
       "c    0.6\n",
       "d    1.0\n",
       "Name: Copia de Cohorte 1, dtype: float64"
      ]
     },
     "execution_count": 69,
     "metadata": {},
     "output_type": "execute_result"
    }
   ],
   "source": [
    "# remueve los índices con un valor NaN\n",
    "notas.mask(notas>2).dropna()"
   ]
  },
  {
   "cell_type": "code",
   "execution_count": 74,
   "id": "22f9e7d5",
   "metadata": {},
   "outputs": [
    {
     "data": {
      "text/plain": [
       "a    0.8\n",
       "b    0.6\n",
       "c    0.6\n",
       "d    1.0\n",
       "e    7.0\n",
       "Name: Copia de Cohorte 1, dtype: float64"
      ]
     },
     "execution_count": 74,
     "metadata": {},
     "output_type": "execute_result"
    }
   ],
   "source": [
    "notas.mask(notas>2).fillna(7)"
   ]
  },
  {
   "cell_type": "code",
   "execution_count": 77,
   "id": "af86beee",
   "metadata": {},
   "outputs": [
    {
     "data": {
      "text/plain": [
       "e    3.0\n",
       "d    1.0\n",
       "a    0.8\n",
       "b    0.6\n",
       "c    0.6\n",
       "Name: Copia de Cohorte 1, dtype: float64"
      ]
     },
     "execution_count": 77,
     "metadata": {},
     "output_type": "execute_result"
    }
   ],
   "source": [
    "notas.sort_values(ascending = False)"
   ]
  },
  {
   "cell_type": "code",
   "execution_count": 79,
   "id": "38c65a7d",
   "metadata": {},
   "outputs": [
    {
     "data": {
      "text/plain": [
       "e    3.0\n",
       "d    1.0\n",
       "c    0.6\n",
       "b    0.6\n",
       "a    0.8\n",
       "Name: Copia de Cohorte 1, dtype: float64"
      ]
     },
     "execution_count": 79,
     "metadata": {},
     "output_type": "execute_result"
    }
   ],
   "source": [
    "notas.sort_index(ascending = False)"
   ]
  },
  {
   "cell_type": "code",
   "execution_count": 89,
   "id": "eb68b453",
   "metadata": {},
   "outputs": [
    {
     "data": {
      "text/plain": [
       "a    0.8\n",
       "b    0.6\n",
       "c    0.6\n",
       "d    1.0\n",
       "e    0.0\n",
       "f    0.0\n",
       "g    4.0\n",
       "h    0.0\n",
       "i    2.0\n",
       "j    2.0\n",
       "dtype: float64"
      ]
     },
     "execution_count": 89,
     "metadata": {},
     "output_type": "execute_result"
    }
   ],
   "source": [
    "notas2 = pd.Series(np.random.randint(0,6, size = 5), index = list('fghij'), name = 'Cohorte 2')\n",
    "pd.concat([notas1, notas2])"
   ]
  },
  {
   "cell_type": "code",
   "execution_count": 90,
   "id": "71c5b387",
   "metadata": {},
   "outputs": [
    {
     "data": {
      "text/plain": [
       "f    0\n",
       "g    4\n",
       "h    0\n",
       "i    2\n",
       "j    2\n",
       "a    3\n",
       "Name: Cohorte 2, dtype: int64"
      ]
     },
     "execution_count": 90,
     "metadata": {},
     "output_type": "execute_result"
    }
   ],
   "source": [
    "# con .loc tambien se pueden añadir elementos\n",
    "notas2.loc['a'] = 3\n",
    "notas2"
   ]
  },
  {
   "cell_type": "code",
   "execution_count": 87,
   "id": "357cd615",
   "metadata": {},
   "outputs": [
    {
     "data": {
      "text/plain": [
       "f    1.0\n",
       "g    0.0\n",
       "h    5.0\n",
       "i    2.0\n",
       "j    4.0\n",
       "k    NaN\n",
       "Name: Cohorte 2, dtype: float64"
      ]
     },
     "execution_count": 87,
     "metadata": {},
     "output_type": "execute_result"
    }
   ],
   "source": [
    "notas2"
   ]
  },
  {
   "cell_type": "code",
   "execution_count": 93,
   "id": "6edfd8ae",
   "metadata": {},
   "outputs": [
    {
     "data": {
      "text/plain": [
       "a    3.8\n",
       "b    NaN\n",
       "c    NaN\n",
       "d    NaN\n",
       "e    NaN\n",
       "f    NaN\n",
       "g    NaN\n",
       "h    NaN\n",
       "i    NaN\n",
       "j    NaN\n",
       "Name: suma, dtype: float64"
      ]
     },
     "execution_count": 93,
     "metadata": {},
     "output_type": "execute_result"
    }
   ],
   "source": [
    "notas = notas1 + notas2\n",
    "notas.name = 'suma'\n",
    "notas"
   ]
  },
  {
   "cell_type": "code",
   "execution_count": 96,
   "id": "39f41f52",
   "metadata": {},
   "outputs": [
    {
     "data": {
      "text/html": [
       "<div>\n",
       "<style scoped>\n",
       "    .dataframe tbody tr th:only-of-type {\n",
       "        vertical-align: middle;\n",
       "    }\n",
       "\n",
       "    .dataframe tbody tr th {\n",
       "        vertical-align: top;\n",
       "    }\n",
       "\n",
       "    .dataframe thead th {\n",
       "        text-align: right;\n",
       "    }\n",
       "</style>\n",
       "<table border=\"1\" class=\"dataframe\">\n",
       "  <thead>\n",
       "    <tr style=\"text-align: right;\">\n",
       "      <th></th>\n",
       "      <th>Cohorte 1</th>\n",
       "      <th>Cohorte 2</th>\n",
       "      <th>suma</th>\n",
       "    </tr>\n",
       "  </thead>\n",
       "  <tbody>\n",
       "    <tr>\n",
       "      <th>a</th>\n",
       "      <td>0.8</td>\n",
       "      <td>3.0</td>\n",
       "      <td>3.8</td>\n",
       "    </tr>\n",
       "    <tr>\n",
       "      <th>b</th>\n",
       "      <td>0.6</td>\n",
       "      <td>NaN</td>\n",
       "      <td>NaN</td>\n",
       "    </tr>\n",
       "    <tr>\n",
       "      <th>c</th>\n",
       "      <td>0.6</td>\n",
       "      <td>NaN</td>\n",
       "      <td>NaN</td>\n",
       "    </tr>\n",
       "    <tr>\n",
       "      <th>d</th>\n",
       "      <td>1.0</td>\n",
       "      <td>NaN</td>\n",
       "      <td>NaN</td>\n",
       "    </tr>\n",
       "    <tr>\n",
       "      <th>e</th>\n",
       "      <td>0.0</td>\n",
       "      <td>NaN</td>\n",
       "      <td>NaN</td>\n",
       "    </tr>\n",
       "    <tr>\n",
       "      <th>f</th>\n",
       "      <td>NaN</td>\n",
       "      <td>0.0</td>\n",
       "      <td>NaN</td>\n",
       "    </tr>\n",
       "    <tr>\n",
       "      <th>g</th>\n",
       "      <td>NaN</td>\n",
       "      <td>4.0</td>\n",
       "      <td>NaN</td>\n",
       "    </tr>\n",
       "    <tr>\n",
       "      <th>h</th>\n",
       "      <td>NaN</td>\n",
       "      <td>0.0</td>\n",
       "      <td>NaN</td>\n",
       "    </tr>\n",
       "    <tr>\n",
       "      <th>i</th>\n",
       "      <td>NaN</td>\n",
       "      <td>2.0</td>\n",
       "      <td>NaN</td>\n",
       "    </tr>\n",
       "    <tr>\n",
       "      <th>j</th>\n",
       "      <td>NaN</td>\n",
       "      <td>2.0</td>\n",
       "      <td>NaN</td>\n",
       "    </tr>\n",
       "  </tbody>\n",
       "</table>\n",
       "</div>"
      ],
      "text/plain": [
       "   Cohorte 1  Cohorte 2  suma\n",
       "a        0.8        3.0   3.8\n",
       "b        0.6        NaN   NaN\n",
       "c        0.6        NaN   NaN\n",
       "d        1.0        NaN   NaN\n",
       "e        0.0        NaN   NaN\n",
       "f        NaN        0.0   NaN\n",
       "g        NaN        4.0   NaN\n",
       "h        NaN        0.0   NaN\n",
       "i        NaN        2.0   NaN\n",
       "j        NaN        2.0   NaN"
      ]
     },
     "execution_count": 96,
     "metadata": {},
     "output_type": "execute_result"
    }
   ],
   "source": [
    "total = pd.concat((notas1, notas2, notas), axis = 1)\n",
    "total"
   ]
  },
  {
   "cell_type": "code",
   "execution_count": 97,
   "id": "d5b90574",
   "metadata": {},
   "outputs": [
    {
     "name": "stdout",
     "output_type": "stream",
     "text": [
      "<class 'pandas.core.frame.DataFrame'>\n",
      "Index: 10 entries, a to j\n",
      "Data columns (total 3 columns):\n",
      " #   Column     Non-Null Count  Dtype  \n",
      "---  ------     --------------  -----  \n",
      " 0   Cohorte 1  5 non-null      float64\n",
      " 1   Cohorte 2  6 non-null      float64\n",
      " 2   suma       1 non-null      float64\n",
      "dtypes: float64(3)\n",
      "memory usage: 320.0+ bytes\n"
     ]
    }
   ],
   "source": [
    "total.info()"
   ]
  },
  {
   "cell_type": "code",
   "execution_count": 102,
   "id": "3c3a69b4",
   "metadata": {},
   "outputs": [
    {
     "data": {
      "text/plain": [
       "array([0.8, 0.6, 1. , 0. , nan])"
      ]
     },
     "execution_count": 102,
     "metadata": {},
     "output_type": "execute_result"
    }
   ],
   "source": [
    "total['Cohorte 1'].unique()"
   ]
  },
  {
   "cell_type": "code",
   "execution_count": 104,
   "id": "93bd0c21",
   "metadata": {},
   "outputs": [
    {
     "data": {
      "text/plain": [
       "4"
      ]
     },
     "execution_count": 104,
     "metadata": {},
     "output_type": "execute_result"
    }
   ],
   "source": [
    "# Cuenta el numero de diferentes valores excluyendo Nan\n",
    "total['Cohorte 1'].nunique()"
   ]
  },
  {
   "cell_type": "code",
   "execution_count": null,
   "id": "f9b36ad9",
   "metadata": {},
   "outputs": [],
   "source": []
  }
 ],
 "metadata": {
  "kernelspec": {
   "display_name": "Python 3",
   "language": "python",
   "name": "python3"
  },
  "language_info": {
   "codemirror_mode": {
    "name": "ipython",
    "version": 3
   },
   "file_extension": ".py",
   "mimetype": "text/x-python",
   "name": "python",
   "nbconvert_exporter": "python",
   "pygments_lexer": "ipython3",
   "version": "3.8.8"
  }
 },
 "nbformat": 4,
 "nbformat_minor": 5
}
