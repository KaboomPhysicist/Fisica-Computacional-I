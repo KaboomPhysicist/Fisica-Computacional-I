{
 "cells": [
  {
   "cell_type": "markdown",
   "metadata": {},
   "source": [
    "## Atractor\n",
    "\n",
    "\\begin{equation}\n",
    "\\frac{dx}{dt}\n",
    "\\end{equation}"
   ]
  },
  {
   "cell_type": "code",
   "execution_count": 29,
   "metadata": {},
   "outputs": [],
   "source": [
    "import numpy as np\n",
    "\n",
    "def rk4(f, y0, a, b, n):\n",
    "    T = np.linspace(a,b,n)\n",
    "    delta = (b-a)/n\n",
    "    Y = np.zeros((len(T),3))\n",
    "    \n",
    "    Y[0,0] = y0[0]\n",
    "    Y[0,1] = y0[1]\n",
    "    Y[0,2] = y0[2]\n",
    "    \n",
    "    for i in range(len(T)-1):\n",
    "        k1 = f(T[i], Y[i])\n",
    "        k2 = f(T[i]+0.5*delta, Y[i]+0.5*delta*k1)\n",
    "        k3 = f(T[i]+0.5*delta, Y[i]+0.5*delta*k2)\n",
    "        k4 = f(T[i]+delta, Y[i]+delta*k3)\n",
    "        \n",
    "        Y[i+1] = Y[i] + delta/6*(k1+2*k2+2*k3+k4)\n",
    "        #print(Y[i])\n",
    "\n",
    "    return Y\n",
    "\n",
    "sigma = 10\n",
    "rho = 28\n",
    "beta = 8/3\n",
    "\n",
    "def f(t,y):\n",
    "    f1 = sigma * (y[1]-y[0])\n",
    "    f2 = y[0] * (rho - y[2]) - y[1]\n",
    "    f3 = y[0]*y[1] - beta*y[2]\n",
    "    \n",
    "    return np.array([f1, f2, f3])"
   ]
  },
  {
   "cell_type": "code",
   "execution_count": null,
   "metadata": {},
   "outputs": [],
   "source": [
    "import matplotlib.pyplot as plt\n",
    "from mpl_toolkits.mplot3d import Axes3D\n",
    "fig = plt.figure()\n",
    "ax = fig.add_subplot(111, projection='3d')\n",
    "\n",
    "y = rk4(f, [1,1,1], 0, 10, 100000000)\n",
    "\n",
    "plt.plot(y[0],y[1],y[2])"
   ]
  },
  {
   "cell_type": "code",
   "execution_count": 8,
   "metadata": {},
   "outputs": [
    {
     "data": {
      "text/plain": [
       "array([[0., 0., 0., 0., 0., 0., 0.],\n",
       "       [0., 0., 0., 0., 0., 0., 0.]])"
      ]
     },
     "execution_count": 8,
     "metadata": {},
     "output_type": "execute_result"
    }
   ],
   "source": [
    "Y"
   ]
  },
  {
   "cell_type": "markdown",
   "metadata": {},
   "source": [
    "# Runge-Kutta adaptativo"
   ]
  },
  {
   "cell_type": "code",
   "execution_count": null,
   "metadata": {},
   "outputs": [],
   "source": [
    "def rkf45(f, y0, tol, a, b, hmin, hmax):\n",
    "    T = np.arange(a,b,h)\n",
    "    Y = np.zeros(len(T))\n",
    "    \n",
    "    Y[0] = y0[0]\n",
    "    \n",
    "    for i in range(len(T)-1):\n",
    "        \n",
    "        \n",
    "        \n",
    "        k1 = f(T[i], Y[i])\n",
    "        k2 = f(T[i]+0.5*delta, Y[i]+0.5*delta*k1)\n",
    "        k3 = f(T[i]+0.5*delta, Y[i]+0.5*delta*k2)\n",
    "        k4 = f(T[i]+delta, Y[i]+delta*k3)\n",
    "        k5 = \n",
    "        k6 =\n",
    "        \n",
    "        Y[i+1] = Y[i] + delta/6*(k1+2*k2+2*k3+k4)\n",
    "        #print(Y[i])\n",
    "\n",
    "    return Y"
   ]
  },
  {
   "cell_type": "code",
   "execution_count": null,
   "metadata": {},
   "outputs": [],
   "source": []
  }
 ],
 "metadata": {
  "kernelspec": {
   "display_name": "Python 3",
   "language": "python",
   "name": "python3"
  },
  "language_info": {
   "codemirror_mode": {
    "name": "ipython",
    "version": 3
   },
   "file_extension": ".py",
   "mimetype": "text/x-python",
   "name": "python",
   "nbconvert_exporter": "python",
   "pygments_lexer": "ipython3",
   "version": "3.8.8"
  }
 },
 "nbformat": 4,
 "nbformat_minor": 4
}
