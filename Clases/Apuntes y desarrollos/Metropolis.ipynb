{
 "cells": [
  {
   "cell_type": "markdown",
   "id": "3a886b0c",
   "metadata": {},
   "source": [
    "## Metropolis"
   ]
  },
  {
   "cell_type": "code",
   "execution_count": null,
   "id": "0c721ea9",
   "metadata": {},
   "outputs": [],
   "source": []
  },
  {
   "cell_type": "code",
   "execution_count": 13,
   "id": "1111685e",
   "metadata": {},
   "outputs": [],
   "source": [
    "import numpy as np\n",
    "import matplotlib.pyplot as plt\n",
    "\n",
    "\n",
    "# Definimos f(x)\n",
    "def Normal(x, mu, sigma):\n",
    "    return 1/np.sqrt(2*np.pi*sigma**2)*np.exp(-(x - mu)**2/(2*sigma**2))"
   ]
  },
  {
   "cell_type": "code",
   "execution_count": 18,
   "id": "c74740e2",
   "metadata": {},
   "outputs": [
    {
     "name": "stdout",
     "output_type": "stream",
     "text": [
      "0.31724\n"
     ]
    }
   ],
   "source": [
    "mu = 0.2\n",
    "sigma = 0.1\n",
    "\n",
    "# Definimos N y dx\n",
    "delta = 0.5\n",
    "N = 50000\n",
    "\n",
    "a, b = -1, 1\n",
    "\n",
    "X = np.linspace(a, b, N)\n",
    "\n",
    "x = np.zeros(N)\n",
    "# Definimos x0\n",
    "x[0] = 0\n",
    "counts = 0\n",
    "\n",
    "for i in range(N-1):\n",
    "    # Proponemos el siguiente valor de la secuencia\n",
    "    xp = x[i] + np.random.uniform(-delta, delta)\n",
    "    # Evaluamos si debemos aceptar o rechazar el valor\n",
    "    # Verifica la condición de aceptación\n",
    "    if np.random.rand() < min(1, Normal(xp, mu, sigma)/Normal(x[i], mu, sigma)):\n",
    "        x[i+1] = xp\n",
    "        counts += 1\n",
    "    else:\n",
    "        x[i+1] = x[i]\n",
    "        \n",
    "\n",
    "print(counts/N)"
   ]
  },
  {
   "cell_type": "code",
   "execution_count": 17,
   "id": "b4fd2fb9",
   "metadata": {},
   "outputs": [
    {
     "data": {
      "image/png": "[encoded data removed]",
      "text/plain": [
       "<Figure size 432x288 with 1 Axes>"
      ]
     },
     "metadata": {
      "needs_background": "light"
     },
     "output_type": "display_data"
    }
   ],
   "source": [
    "plt.hist(x, density = True, bins = 100)\n",
    "plt.show()"
   ]
  },
  {
   "cell_type": "code",
   "execution_count": 11,
   "id": "ad809d94",
   "metadata": {},
   "outputs": [
    {
     "data": {
      "text/plain": [
       "219"
      ]
     },
     "execution_count": 11,
     "metadata": {},
     "output_type": "execute_result"
    }
   ],
   "source": [
    "counts"
   ]
  },
  {
   "cell_type": "code",
   "execution_count": 21,
   "id": "0ac0deee",
   "metadata": {},
   "outputs": [],
   "source": [
    "def f(x):\n",
    "    return x/(1+x**2)**2"
   ]
  },
  {
   "cell_type": "code",
   "execution_count": 68,
   "id": "cf60ec0d",
   "metadata": {},
   "outputs": [
    {
     "name": "stdout",
     "output_type": "stream",
     "text": [
      "0.6948\n"
     ]
    }
   ],
   "source": [
    "# Definimos N y dx\n",
    "delta = 1\n",
    "N = 10000\n",
    "\n",
    "a, b = 0, 10\n",
    "\n",
    "X = np.linspace(a, b, N)\n",
    "\n",
    "x = np.zeros(N)\n",
    "# Definimos x0\n",
    "x[0] = 1\n",
    "counts = 0\n",
    "\n",
    "for i in range(N-1):\n",
    "    # Proponemos el siguiente valor de la secuencia\n",
    "    xp = x[i] + np.random.uniform(-delta, delta)\n",
    "    # Evaluamos si debemos aceptar o rechazar el valor\n",
    "    # Verifica la condición de aceptación\n",
    "    if np.random.rand() < min(1, f(xp)/f(x[i])):\n",
    "        x[i+1] = xp\n",
    "        counts += 1\n",
    "    else:\n",
    "        x[i+1] = x[i]\n",
    "        \n",
    "\n",
    "print(counts/N)"
   ]
  },
  {
   "cell_type": "code",
   "execution_count": 69,
   "id": "f0c7ba3e",
   "metadata": {},
   "outputs": [
    {
     "name": "stdout",
     "output_type": "stream",
     "text": [
      "13.670230420003262\n"
     ]
    }
   ],
   "source": [
    "normalizacion = np.mean(x)*(b-a)\n",
    "print(normalizacion)"
   ]
  },
  {
   "cell_type": "code",
   "execution_count": 70,
   "id": "ae568da0",
   "metadata": {},
   "outputs": [
    {
     "data": {
      "image/png": "[encoded data removed]",
      "text/plain": [
       "<Figure size 432x288 with 1 Axes>"
      ]
     },
     "metadata": {
      "needs_background": "light"
     },
     "output_type": "display_data"
    }
   ],
   "source": [
    "plt.hist(x, density = True, bins = 100)\n",
    "plt.plot(X, f(X)/normalizacion)\n",
    "plt.show()"
   ]
  },
  {
   "cell_type": "code",
   "execution_count": 65,
   "id": "1bcb2c17",
   "metadata": {},
   "outputs": [
    {
     "data": {
      "text/plain": [
       "9870.604136549251"
      ]
     },
     "execution_count": 65,
     "metadata": {},
     "output_type": "execute_result"
    }
   ],
   "source": [
    "integral"
   ]
  },
  {
   "cell_type": "code",
   "execution_count": null,
   "id": "e2937ded",
   "metadata": {},
   "outputs": [],
   "source": []
  }
 ],
 "metadata": {
  "kernelspec": {
   "display_name": "Python 3",
   "language": "python",
   "name": "python3"
  },
  "language_info": {
   "codemirror_mode": {
    "name": "ipython",
    "version": 3
   },
   "file_extension": ".py",
   "mimetype": "text/x-python",
   "name": "python",
   "nbconvert_exporter": "python",
   "pygments_lexer": "ipython3",
   "version": "3.8.8"
  }
 },
 "nbformat": 4,
 "nbformat_minor": 5
}
