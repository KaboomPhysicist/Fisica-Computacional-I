{
 "cells": [
  {
   "cell_type": "markdown",
   "id": "f6548c2d",
   "metadata": {},
   "source": [
    "## Método de Numerov y método de disparo"
   ]
  },
  {
   "cell_type": "markdown",
   "id": "a74de855",
   "metadata": {},
   "source": [
    "## Shooting method\n",
    "Se usa principalmente cuando se tienen condiciones de frontera. \n",
    "\n",
    "Iniciamos con una segunda derivada:\n",
    "\n",
    "\\begin{equation}\n",
    "\\frac{d^2y}{dt^2} = f(t, y, y')\n",
    "\\end{equation}\n",
    "\\begin{equation}\n",
    "y(a) = \\alpha \\\\\n",
    "y(b) = \\beta\n",
    "\\end{equation}\n",
    "\n",
    "A partir de aquí podemos definir $z = \\frac{dy}{dt}$, de tal manera que:\n",
    "\\begin{equation}\n",
    "\\frac{dz}{dt} = f(t, y, y')\n",
    "\\end{equation}\n",
    "\n",
    "la condición de frontera queda como $z(a) = k$, y hallamos k de tal manera que $F(k) = y(b) - \\beta = 0$"
   ]
  },
  {
   "cell_type": "markdown",
   "id": "f7c209f0",
   "metadata": {},
   "source": [
    "# "
   ]
  }
 ],
 "metadata": {
  "kernelspec": {
   "display_name": "Python 3",
   "language": "python",
   "name": "python3"
  },
  "language_info": {
   "codemirror_mode": {
    "name": "ipython",
    "version": 3
   },
   "file_extension": ".py",
   "mimetype": "text/x-python",
   "name": "python",
   "nbconvert_exporter": "python",
   "pygments_lexer": "ipython3",
   "version": "3.8.8"
  }
 },
 "nbformat": 4,
 "nbformat_minor": 5
}
