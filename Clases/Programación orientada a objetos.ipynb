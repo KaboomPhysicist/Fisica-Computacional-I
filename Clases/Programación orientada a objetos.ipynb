{
 "cells": [
  {
   "cell_type": "markdown",
   "id": "21a47217",
   "metadata": {},
   "source": [
    "# Programación orientada a objetos"
   ]
  },
  {
   "cell_type": "markdown",
   "id": "981e9c54",
   "metadata": {},
   "source": [
    "Los objetos pertenecen a clases."
   ]
  },
  {
   "cell_type": "code",
   "execution_count": 1,
   "id": "90d9df1f",
   "metadata": {},
   "outputs": [],
   "source": [
    "class gatito:\n",
    "    pass"
   ]
  },
  {
   "cell_type": "code",
   "execution_count": 2,
   "id": "c4ee8cce",
   "metadata": {},
   "outputs": [],
   "source": [
    "gato0 = gatito()\n",
    "gato1 = gatito()\n",
    "\n",
    "gatos = [gato0, gato1]"
   ]
  },
  {
   "cell_type": "markdown",
   "id": "3b3e9961",
   "metadata": {},
   "source": [
    "Vamos a generar atributos a cada objeto"
   ]
  },
  {
   "cell_type": "code",
   "execution_count": 3,
   "id": "e30df14d",
   "metadata": {},
   "outputs": [],
   "source": [
    "gato0.Nombre = 'Pepe'\n",
    "gato0.Apellido = 'Pérez'\n",
    "gato0.Edad = 4\n",
    "gato0.Longitud = 48"
   ]
  },
  {
   "cell_type": "code",
   "execution_count": 4,
   "id": "72c39754",
   "metadata": {},
   "outputs": [],
   "source": [
    "gato1.Nombre = 'Isis'\n",
    "gato1.Apellido = None\n",
    "gato1.Edad = 6\n",
    "gato1.Longitud = 51"
   ]
  },
  {
   "cell_type": "code",
   "execution_count": 5,
   "id": "cfac974e",
   "metadata": {},
   "outputs": [
    {
     "name": "stdout",
     "output_type": "stream",
     "text": [
      "Pepe\n",
      "Isis\n"
     ]
    }
   ],
   "source": [
    "for i in gatos:\n",
    "    print(i.Nombre)"
   ]
  },
  {
   "cell_type": "markdown",
   "id": "4e29b272",
   "metadata": {},
   "source": [
    "### Método __init__"
   ]
  },
  {
   "cell_type": "code",
   "execution_count": 6,
   "id": "759a7228",
   "metadata": {},
   "outputs": [],
   "source": [
    "class gatito:\n",
    "    \"\"\"Esta clase permite generar gatos y sus propiedades\"\"\"\n",
    "    \n",
    "    def __init__(self, Nombre, Apellido, Edad, Peso, Longitud):\n",
    "        self.Nombre = Nombre\n",
    "        self.Apellido = Apellido\n",
    "        self.Edad = Edad\n",
    "        self.Longitud = Longitud\n",
    "        self.Peso = Peso\n",
    "    def identificador(self):\n",
    "        ids = ''.join(format(ord(x), 'b') for x in self.Nombre)\n",
    "        return int(ids, 2)\n",
    "    def nombre_completo(self):\n",
    "        return f'{self.Nombre} {self.Apellido}'\n",
    "    def comida(self):\n",
    "        if self.Peso > 6:\n",
    "            print(\"Que coma 90 g.\")\n",
    "        elif 4 < self.Peso < 6:\n",
    "            print(\"Que coma 75 g.\")"
   ]
  },
  {
   "cell_type": "code",
   "execution_count": 7,
   "id": "f984d41b",
   "metadata": {},
   "outputs": [],
   "source": [
    "gato0 = gatito('Pepe', 'Pérez', 4, 6.5, 48)\n",
    "gato1 = gatito('Isis', None, 6, 4.3, 51)"
   ]
  },
  {
   "cell_type": "code",
   "execution_count": 8,
   "id": "ae0c2e2e",
   "metadata": {},
   "outputs": [
    {
     "name": "stdout",
     "output_type": "stream",
     "text": [
      "Que coma 90 g.\n"
     ]
    }
   ],
   "source": [
    "gato0.comida()"
   ]
  },
  {
   "cell_type": "code",
   "execution_count": 9,
   "id": "e85e187d",
   "metadata": {},
   "outputs": [
    {
     "name": "stdout",
     "output_type": "stream",
     "text": [
      "Que coma 75 g.\n"
     ]
    }
   ],
   "source": [
    "gato1.comida()"
   ]
  },
  {
   "cell_type": "markdown",
   "id": "388ac758",
   "metadata": {},
   "source": [
    "### Atributos por defecto"
   ]
  },
  {
   "cell_type": "code",
   "execution_count": 10,
   "id": "7ebdd6c6",
   "metadata": {},
   "outputs": [
    {
     "data": {
      "text/plain": [
       "{'Nombre': 'Pepe', 'Apellido': 'Pérez', 'Edad': 4, 'Longitud': 48, 'Peso': 6.5}"
      ]
     },
     "execution_count": 10,
     "metadata": {},
     "output_type": "execute_result"
    }
   ],
   "source": [
    "gato0.__dict__"
   ]
  },
  {
   "cell_type": "code",
   "execution_count": 11,
   "id": "b51d6376",
   "metadata": {},
   "outputs": [
    {
     "data": {
      "text/plain": [
       "'Esta clase permite generar gatos y sus propiedades'"
      ]
     },
     "execution_count": 11,
     "metadata": {},
     "output_type": "execute_result"
    }
   ],
   "source": [
    "gato0.__doc__"
   ]
  },
  {
   "cell_type": "code",
   "execution_count": 12,
   "id": "882aa70b",
   "metadata": {},
   "outputs": [
    {
     "data": {
      "text/plain": [
       "'__main__'"
      ]
     },
     "execution_count": 12,
     "metadata": {},
     "output_type": "execute_result"
    }
   ],
   "source": [
    "gato0.__module__"
   ]
  },
  {
   "cell_type": "markdown",
   "id": "50716c57",
   "metadata": {},
   "source": [
    "### Clases derivadas\n",
    "\n",
    "Se declara una clase con argumento de otra clase. La nueva clase se apropia de los atributos de la vieja"
   ]
  },
  {
   "cell_type": "code",
   "execution_count": 19,
   "id": "c71a15ee",
   "metadata": {},
   "outputs": [],
   "source": [
    "class animales(gatito):\n",
    "    def __init__(self, Nombre, Apellido, Edad, Peso, Longitud, raza):\n",
    "        # se inicializa con la clase padre\n",
    "        super().__init__(Nombre, Apellido, Edad, Peso, Longitud)\n",
    "        self.raza = raza"
   ]
  },
  {
   "cell_type": "code",
   "execution_count": 20,
   "id": "bf0aa44a",
   "metadata": {},
   "outputs": [],
   "source": [
    "prro = animales(\"Perro\", \"Guau guau\", 21, 9.2, 123, 'chihuahua')"
   ]
  },
  {
   "cell_type": "code",
   "execution_count": 21,
   "id": "a7a4e9a2",
   "metadata": {},
   "outputs": [
    {
     "data": {
      "text/plain": [
       "'chihuahua'"
      ]
     },
     "execution_count": 21,
     "metadata": {},
     "output_type": "execute_result"
    }
   ],
   "source": [
    "prro.raza"
   ]
  },
  {
   "cell_type": "code",
   "execution_count": 16,
   "id": "930507dc",
   "metadata": {},
   "outputs": [
    {
     "name": "stdout",
     "output_type": "stream",
     "text": [
      "Que coma 90 g.\n"
     ]
    }
   ],
   "source": [
    "prro.comida()"
   ]
  },
  {
   "cell_type": "code",
   "execution_count": 25,
   "id": "736ad549",
   "metadata": {},
   "outputs": [
    {
     "name": "stdout",
     "output_type": "stream",
     "text": [
      "True\n",
      "True\n",
      "True\n",
      "False\n"
     ]
    }
   ],
   "source": [
    "print(isinstance(prro, animales))\n",
    "print(isinstance(prro, gatito))\n",
    "print(issubclass(animales, gatito))\n",
    "print(issubclass(gatito, animales))"
   ]
  },
  {
   "cell_type": "code",
   "execution_count": null,
   "id": "f3f77d8b",
   "metadata": {},
   "outputs": [],
   "source": []
  }
 ],
 "metadata": {
  "kernelspec": {
   "display_name": "Python 3 (ipykernel)",
   "language": "python",
   "name": "python3"
  },
  "language_info": {
   "codemirror_mode": {
    "name": "ipython",
    "version": 3
   },
   "file_extension": ".py",
   "mimetype": "text/x-python",
   "name": "python",
   "nbconvert_exporter": "python",
   "pygments_lexer": "ipython3",
   "version": "3.9.7"
  }
 },
 "nbformat": 4,
 "nbformat_minor": 5
}
